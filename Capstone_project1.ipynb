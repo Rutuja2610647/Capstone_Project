{
  "nbformat": 4,
  "nbformat_minor": 0,
  "metadata": {
    "colab": {
      "provenance": [],
      "authorship_tag": "ABX9TyPzRzrwv1adjC/IR5/xchKx",
      "include_colab_link": true
    },
    "kernelspec": {
      "name": "python3",
      "display_name": "Python 3"
    },
    "language_info": {
      "name": "python"
    }
  },
  "cells": [
    {
      "cell_type": "markdown",
      "metadata": {
        "id": "view-in-github",
        "colab_type": "text"
      },
      "source": [
        "<a href=\"https://colab.research.google.com/github/Rutuja2610647/Capstone_Project/blob/main/Capstone_project1.ipynb\" target=\"_parent\"><img src=\"https://colab.research.google.com/assets/colab-badge.svg\" alt=\"Open In Colab\"/></a>"
      ]
    },
    {
      "cell_type": "markdown",
      "source": [
        "**Step 1: Load and Explore the Dataset**\n"
      ],
      "metadata": {
        "id": "UHxYjL_MsYlW"
      }
    },
    {
      "cell_type": "code",
      "execution_count": 81,
      "metadata": {
        "id": "RqBxWyx0rvGO"
      },
      "outputs": [],
      "source": [
        "import pandas as pd\n",
        "import numpy as np\n",
        "import matplotlib.pyplot as plt\n",
        "import seaborn as sns\n",
        "from sklearn.model_selection import train_test_split\n",
        "from sklearn.preprocessing import LabelEncoder, Normalizer\n",
        "from sklearn.metrics import confusion_matrix, roc_curve, auc\n"
      ]
    },
    {
      "cell_type": "code",
      "source": [
        "# Load the dataset\n",
        "df = pd.read_csv(\"Dentistry Dataset.csv\")"
      ],
      "metadata": {
        "id": "TdUIO3lUs0jV"
      },
      "execution_count": 82,
      "outputs": []
    },
    {
      "cell_type": "code",
      "source": [
        "# Display basic information\n",
        "df.info()"
      ],
      "metadata": {
        "colab": {
          "base_uri": "https://localhost:8080/"
        },
        "id": "GaFg6OkNs85U",
        "outputId": "053b5c92-d789-4435-a93a-2da06e0f6e4f"
      },
      "execution_count": 83,
      "outputs": [
        {
          "output_type": "stream",
          "name": "stdout",
          "text": [
            "<class 'pandas.core.frame.DataFrame'>\n",
            "RangeIndex: 1100 entries, 0 to 1099\n",
            "Data columns (total 14 columns):\n",
            " #   Column                           Non-Null Count  Dtype  \n",
            "---  ------                           --------------  -----  \n",
            " 0   Sl No                            1100 non-null   int64  \n",
            " 1   Sample ID                        0 non-null      float64\n",
            " 2   Age                              1100 non-null   int64  \n",
            " 3   Gender                           1100 non-null   object \n",
            " 4   inter canine distance intraoral  1100 non-null   float64\n",
            " 5   intercanine distance casts       1100 non-null   float64\n",
            " 6   right canine width intraoral     1100 non-null   float64\n",
            " 7   right canine width casts         1100 non-null   float64\n",
            " 8   left canine width intraoral      1100 non-null   float64\n",
            " 9   left canine width casts          1100 non-null   float64\n",
            " 10  right canine index intra oral    1100 non-null   float64\n",
            " 11  right canine index casts         1100 non-null   float64\n",
            " 12  left canine index intraoral      1100 non-null   float64\n",
            " 13  left canine index casts          1100 non-null   float64\n",
            "dtypes: float64(11), int64(2), object(1)\n",
            "memory usage: 120.4+ KB\n"
          ]
        }
      ]
    },
    {
      "cell_type": "code",
      "source": [
        "df.head()"
      ],
      "metadata": {
        "colab": {
          "base_uri": "https://localhost:8080/",
          "height": 296
        },
        "id": "uR4Op-HdtA-G",
        "outputId": "5a020baa-9f6c-45a6-f974-70539d78389e"
      },
      "execution_count": 84,
      "outputs": [
        {
          "output_type": "execute_result",
          "data": {
            "text/plain": [
              "   Sl No  Sample ID  Age  Gender  inter canine distance intraoral  \\\n",
              "0      1        NaN   24  Female                            25.06   \n",
              "1      2        NaN   22  Female                            25.78   \n",
              "2      3        NaN   23  Female                            23.83   \n",
              "3      4        NaN   20  Female                            26.12   \n",
              "4      5        NaN   20  Female                            26.36   \n",
              "\n",
              "   intercanine distance casts  right canine width intraoral  \\\n",
              "0                       25.05                          6.08   \n",
              "1                       25.79                          6.13   \n",
              "2                       23.83                          5.91   \n",
              "3                       26.12                          6.08   \n",
              "4                       26.41                          6.09   \n",
              "\n",
              "   right canine width casts  left canine width intraoral  \\\n",
              "0                      6.08                         6.09   \n",
              "1                      6.13                         6.33   \n",
              "2                      5.96                         6.28   \n",
              "3                      6.08                         6.56   \n",
              "4                      6.09                         6.50   \n",
              "\n",
              "   left canine width casts  right canine index intra oral  \\\n",
              "0                     6.10                          0.242   \n",
              "1                     6.33                          0.237   \n",
              "2                     6.28                          0.248   \n",
              "3                     6.56                          0.232   \n",
              "4                     6.50                          0.231   \n",
              "\n",
              "   right canine index casts  left canine index intraoral  \\\n",
              "0                     0.242                        0.242   \n",
              "1                     0.237                        0.247   \n",
              "2                     0.248                        0.264   \n",
              "3                     0.232                        0.250   \n",
              "4                     0.231                        0.246   \n",
              "\n",
              "   left canine index casts  \n",
              "0                    0.241  \n",
              "1                    0.247  \n",
              "2                    0.264  \n",
              "3                    0.250  \n",
              "4                    0.246  "
            ],
            "text/html": [
              "\n",
              "  <div id=\"df-9c6f11db-f1f8-4972-aa49-da08ca3e7b30\" class=\"colab-df-container\">\n",
              "    <div>\n",
              "<style scoped>\n",
              "    .dataframe tbody tr th:only-of-type {\n",
              "        vertical-align: middle;\n",
              "    }\n",
              "\n",
              "    .dataframe tbody tr th {\n",
              "        vertical-align: top;\n",
              "    }\n",
              "\n",
              "    .dataframe thead th {\n",
              "        text-align: right;\n",
              "    }\n",
              "</style>\n",
              "<table border=\"1\" class=\"dataframe\">\n",
              "  <thead>\n",
              "    <tr style=\"text-align: right;\">\n",
              "      <th></th>\n",
              "      <th>Sl No</th>\n",
              "      <th>Sample ID</th>\n",
              "      <th>Age</th>\n",
              "      <th>Gender</th>\n",
              "      <th>inter canine distance intraoral</th>\n",
              "      <th>intercanine distance casts</th>\n",
              "      <th>right canine width intraoral</th>\n",
              "      <th>right canine width casts</th>\n",
              "      <th>left canine width intraoral</th>\n",
              "      <th>left canine width casts</th>\n",
              "      <th>right canine index intra oral</th>\n",
              "      <th>right canine index casts</th>\n",
              "      <th>left canine index intraoral</th>\n",
              "      <th>left canine index casts</th>\n",
              "    </tr>\n",
              "  </thead>\n",
              "  <tbody>\n",
              "    <tr>\n",
              "      <th>0</th>\n",
              "      <td>1</td>\n",
              "      <td>NaN</td>\n",
              "      <td>24</td>\n",
              "      <td>Female</td>\n",
              "      <td>25.06</td>\n",
              "      <td>25.05</td>\n",
              "      <td>6.08</td>\n",
              "      <td>6.08</td>\n",
              "      <td>6.09</td>\n",
              "      <td>6.10</td>\n",
              "      <td>0.242</td>\n",
              "      <td>0.242</td>\n",
              "      <td>0.242</td>\n",
              "      <td>0.241</td>\n",
              "    </tr>\n",
              "    <tr>\n",
              "      <th>1</th>\n",
              "      <td>2</td>\n",
              "      <td>NaN</td>\n",
              "      <td>22</td>\n",
              "      <td>Female</td>\n",
              "      <td>25.78</td>\n",
              "      <td>25.79</td>\n",
              "      <td>6.13</td>\n",
              "      <td>6.13</td>\n",
              "      <td>6.33</td>\n",
              "      <td>6.33</td>\n",
              "      <td>0.237</td>\n",
              "      <td>0.237</td>\n",
              "      <td>0.247</td>\n",
              "      <td>0.247</td>\n",
              "    </tr>\n",
              "    <tr>\n",
              "      <th>2</th>\n",
              "      <td>3</td>\n",
              "      <td>NaN</td>\n",
              "      <td>23</td>\n",
              "      <td>Female</td>\n",
              "      <td>23.83</td>\n",
              "      <td>23.83</td>\n",
              "      <td>5.91</td>\n",
              "      <td>5.96</td>\n",
              "      <td>6.28</td>\n",
              "      <td>6.28</td>\n",
              "      <td>0.248</td>\n",
              "      <td>0.248</td>\n",
              "      <td>0.264</td>\n",
              "      <td>0.264</td>\n",
              "    </tr>\n",
              "    <tr>\n",
              "      <th>3</th>\n",
              "      <td>4</td>\n",
              "      <td>NaN</td>\n",
              "      <td>20</td>\n",
              "      <td>Female</td>\n",
              "      <td>26.12</td>\n",
              "      <td>26.12</td>\n",
              "      <td>6.08</td>\n",
              "      <td>6.08</td>\n",
              "      <td>6.56</td>\n",
              "      <td>6.56</td>\n",
              "      <td>0.232</td>\n",
              "      <td>0.232</td>\n",
              "      <td>0.250</td>\n",
              "      <td>0.250</td>\n",
              "    </tr>\n",
              "    <tr>\n",
              "      <th>4</th>\n",
              "      <td>5</td>\n",
              "      <td>NaN</td>\n",
              "      <td>20</td>\n",
              "      <td>Female</td>\n",
              "      <td>26.36</td>\n",
              "      <td>26.41</td>\n",
              "      <td>6.09</td>\n",
              "      <td>6.09</td>\n",
              "      <td>6.50</td>\n",
              "      <td>6.50</td>\n",
              "      <td>0.231</td>\n",
              "      <td>0.231</td>\n",
              "      <td>0.246</td>\n",
              "      <td>0.246</td>\n",
              "    </tr>\n",
              "  </tbody>\n",
              "</table>\n",
              "</div>\n",
              "    <div class=\"colab-df-buttons\">\n",
              "\n",
              "  <div class=\"colab-df-container\">\n",
              "    <button class=\"colab-df-convert\" onclick=\"convertToInteractive('df-9c6f11db-f1f8-4972-aa49-da08ca3e7b30')\"\n",
              "            title=\"Convert this dataframe to an interactive table.\"\n",
              "            style=\"display:none;\">\n",
              "\n",
              "  <svg xmlns=\"http://www.w3.org/2000/svg\" height=\"24px\" viewBox=\"0 -960 960 960\">\n",
              "    <path d=\"M120-120v-720h720v720H120Zm60-500h600v-160H180v160Zm220 220h160v-160H400v160Zm0 220h160v-160H400v160ZM180-400h160v-160H180v160Zm440 0h160v-160H620v160ZM180-180h160v-160H180v160Zm440 0h160v-160H620v160Z\"/>\n",
              "  </svg>\n",
              "    </button>\n",
              "\n",
              "  <style>\n",
              "    .colab-df-container {\n",
              "      display:flex;\n",
              "      gap: 12px;\n",
              "    }\n",
              "\n",
              "    .colab-df-convert {\n",
              "      background-color: #E8F0FE;\n",
              "      border: none;\n",
              "      border-radius: 50%;\n",
              "      cursor: pointer;\n",
              "      display: none;\n",
              "      fill: #1967D2;\n",
              "      height: 32px;\n",
              "      padding: 0 0 0 0;\n",
              "      width: 32px;\n",
              "    }\n",
              "\n",
              "    .colab-df-convert:hover {\n",
              "      background-color: #E2EBFA;\n",
              "      box-shadow: 0px 1px 2px rgba(60, 64, 67, 0.3), 0px 1px 3px 1px rgba(60, 64, 67, 0.15);\n",
              "      fill: #174EA6;\n",
              "    }\n",
              "\n",
              "    .colab-df-buttons div {\n",
              "      margin-bottom: 4px;\n",
              "    }\n",
              "\n",
              "    [theme=dark] .colab-df-convert {\n",
              "      background-color: #3B4455;\n",
              "      fill: #D2E3FC;\n",
              "    }\n",
              "\n",
              "    [theme=dark] .colab-df-convert:hover {\n",
              "      background-color: #434B5C;\n",
              "      box-shadow: 0px 1px 3px 1px rgba(0, 0, 0, 0.15);\n",
              "      filter: drop-shadow(0px 1px 2px rgba(0, 0, 0, 0.3));\n",
              "      fill: #FFFFFF;\n",
              "    }\n",
              "  </style>\n",
              "\n",
              "    <script>\n",
              "      const buttonEl =\n",
              "        document.querySelector('#df-9c6f11db-f1f8-4972-aa49-da08ca3e7b30 button.colab-df-convert');\n",
              "      buttonEl.style.display =\n",
              "        google.colab.kernel.accessAllowed ? 'block' : 'none';\n",
              "\n",
              "      async function convertToInteractive(key) {\n",
              "        const element = document.querySelector('#df-9c6f11db-f1f8-4972-aa49-da08ca3e7b30');\n",
              "        const dataTable =\n",
              "          await google.colab.kernel.invokeFunction('convertToInteractive',\n",
              "                                                    [key], {});\n",
              "        if (!dataTable) return;\n",
              "\n",
              "        const docLinkHtml = 'Like what you see? Visit the ' +\n",
              "          '<a target=\"_blank\" href=https://colab.research.google.com/notebooks/data_table.ipynb>data table notebook</a>'\n",
              "          + ' to learn more about interactive tables.';\n",
              "        element.innerHTML = '';\n",
              "        dataTable['output_type'] = 'display_data';\n",
              "        await google.colab.output.renderOutput(dataTable, element);\n",
              "        const docLink = document.createElement('div');\n",
              "        docLink.innerHTML = docLinkHtml;\n",
              "        element.appendChild(docLink);\n",
              "      }\n",
              "    </script>\n",
              "  </div>\n",
              "\n",
              "\n",
              "<div id=\"df-31911342-a8c0-42b0-beb0-b42f3b3ef632\">\n",
              "  <button class=\"colab-df-quickchart\" onclick=\"quickchart('df-31911342-a8c0-42b0-beb0-b42f3b3ef632')\"\n",
              "            title=\"Suggest charts\"\n",
              "            style=\"display:none;\">\n",
              "\n",
              "<svg xmlns=\"http://www.w3.org/2000/svg\" height=\"24px\"viewBox=\"0 0 24 24\"\n",
              "     width=\"24px\">\n",
              "    <g>\n",
              "        <path d=\"M19 3H5c-1.1 0-2 .9-2 2v14c0 1.1.9 2 2 2h14c1.1 0 2-.9 2-2V5c0-1.1-.9-2-2-2zM9 17H7v-7h2v7zm4 0h-2V7h2v10zm4 0h-2v-4h2v4z\"/>\n",
              "    </g>\n",
              "</svg>\n",
              "  </button>\n",
              "\n",
              "<style>\n",
              "  .colab-df-quickchart {\n",
              "      --bg-color: #E8F0FE;\n",
              "      --fill-color: #1967D2;\n",
              "      --hover-bg-color: #E2EBFA;\n",
              "      --hover-fill-color: #174EA6;\n",
              "      --disabled-fill-color: #AAA;\n",
              "      --disabled-bg-color: #DDD;\n",
              "  }\n",
              "\n",
              "  [theme=dark] .colab-df-quickchart {\n",
              "      --bg-color: #3B4455;\n",
              "      --fill-color: #D2E3FC;\n",
              "      --hover-bg-color: #434B5C;\n",
              "      --hover-fill-color: #FFFFFF;\n",
              "      --disabled-bg-color: #3B4455;\n",
              "      --disabled-fill-color: #666;\n",
              "  }\n",
              "\n",
              "  .colab-df-quickchart {\n",
              "    background-color: var(--bg-color);\n",
              "    border: none;\n",
              "    border-radius: 50%;\n",
              "    cursor: pointer;\n",
              "    display: none;\n",
              "    fill: var(--fill-color);\n",
              "    height: 32px;\n",
              "    padding: 0;\n",
              "    width: 32px;\n",
              "  }\n",
              "\n",
              "  .colab-df-quickchart:hover {\n",
              "    background-color: var(--hover-bg-color);\n",
              "    box-shadow: 0 1px 2px rgba(60, 64, 67, 0.3), 0 1px 3px 1px rgba(60, 64, 67, 0.15);\n",
              "    fill: var(--button-hover-fill-color);\n",
              "  }\n",
              "\n",
              "  .colab-df-quickchart-complete:disabled,\n",
              "  .colab-df-quickchart-complete:disabled:hover {\n",
              "    background-color: var(--disabled-bg-color);\n",
              "    fill: var(--disabled-fill-color);\n",
              "    box-shadow: none;\n",
              "  }\n",
              "\n",
              "  .colab-df-spinner {\n",
              "    border: 2px solid var(--fill-color);\n",
              "    border-color: transparent;\n",
              "    border-bottom-color: var(--fill-color);\n",
              "    animation:\n",
              "      spin 1s steps(1) infinite;\n",
              "  }\n",
              "\n",
              "  @keyframes spin {\n",
              "    0% {\n",
              "      border-color: transparent;\n",
              "      border-bottom-color: var(--fill-color);\n",
              "      border-left-color: var(--fill-color);\n",
              "    }\n",
              "    20% {\n",
              "      border-color: transparent;\n",
              "      border-left-color: var(--fill-color);\n",
              "      border-top-color: var(--fill-color);\n",
              "    }\n",
              "    30% {\n",
              "      border-color: transparent;\n",
              "      border-left-color: var(--fill-color);\n",
              "      border-top-color: var(--fill-color);\n",
              "      border-right-color: var(--fill-color);\n",
              "    }\n",
              "    40% {\n",
              "      border-color: transparent;\n",
              "      border-right-color: var(--fill-color);\n",
              "      border-top-color: var(--fill-color);\n",
              "    }\n",
              "    60% {\n",
              "      border-color: transparent;\n",
              "      border-right-color: var(--fill-color);\n",
              "    }\n",
              "    80% {\n",
              "      border-color: transparent;\n",
              "      border-right-color: var(--fill-color);\n",
              "      border-bottom-color: var(--fill-color);\n",
              "    }\n",
              "    90% {\n",
              "      border-color: transparent;\n",
              "      border-bottom-color: var(--fill-color);\n",
              "    }\n",
              "  }\n",
              "</style>\n",
              "\n",
              "  <script>\n",
              "    async function quickchart(key) {\n",
              "      const quickchartButtonEl =\n",
              "        document.querySelector('#' + key + ' button');\n",
              "      quickchartButtonEl.disabled = true;  // To prevent multiple clicks.\n",
              "      quickchartButtonEl.classList.add('colab-df-spinner');\n",
              "      try {\n",
              "        const charts = await google.colab.kernel.invokeFunction(\n",
              "            'suggestCharts', [key], {});\n",
              "      } catch (error) {\n",
              "        console.error('Error during call to suggestCharts:', error);\n",
              "      }\n",
              "      quickchartButtonEl.classList.remove('colab-df-spinner');\n",
              "      quickchartButtonEl.classList.add('colab-df-quickchart-complete');\n",
              "    }\n",
              "    (() => {\n",
              "      let quickchartButtonEl =\n",
              "        document.querySelector('#df-31911342-a8c0-42b0-beb0-b42f3b3ef632 button');\n",
              "      quickchartButtonEl.style.display =\n",
              "        google.colab.kernel.accessAllowed ? 'block' : 'none';\n",
              "    })();\n",
              "  </script>\n",
              "</div>\n",
              "\n",
              "    </div>\n",
              "  </div>\n"
            ],
            "application/vnd.google.colaboratory.intrinsic+json": {
              "type": "dataframe",
              "variable_name": "df",
              "summary": "{\n  \"name\": \"df\",\n  \"rows\": 1100,\n  \"fields\": [\n    {\n      \"column\": \"Sl No\",\n      \"properties\": {\n        \"dtype\": \"number\",\n        \"std\": 317,\n        \"min\": 1,\n        \"max\": 1100,\n        \"num_unique_values\": 1100,\n        \"samples\": [\n          329,\n          689,\n          414\n        ],\n        \"semantic_type\": \"\",\n        \"description\": \"\"\n      }\n    },\n    {\n      \"column\": \"Sample ID\",\n      \"properties\": {\n        \"dtype\": \"number\",\n        \"std\": null,\n        \"min\": null,\n        \"max\": null,\n        \"num_unique_values\": 0,\n        \"samples\": [],\n        \"semantic_type\": \"\",\n        \"description\": \"\"\n      }\n    },\n    {\n      \"column\": \"Age\",\n      \"properties\": {\n        \"dtype\": \"number\",\n        \"std\": 2,\n        \"min\": 18,\n        \"max\": 25,\n        \"num_unique_values\": 8,\n        \"samples\": [],\n        \"semantic_type\": \"\",\n        \"description\": \"\"\n      }\n    },\n    {\n      \"column\": \"Gender\",\n      \"properties\": {\n        \"dtype\": \"category\",\n        \"num_unique_values\": 2,\n        \"samples\": [],\n        \"semantic_type\": \"\",\n        \"description\": \"\"\n      }\n    },\n    {\n      \"column\": \"inter canine distance intraoral\",\n      \"properties\": {\n        \"dtype\": \"number\",\n        \"std\": 1.3152919526684572,\n        \"min\": 23.12,\n        \"max\": 30.31,\n        \"num_unique_values\": 456,\n        \"samples\": [],\n        \"semantic_type\": \"\",\n        \"description\": \"\"\n      }\n    },\n    {\n      \"column\": \"intercanine distance casts\",\n      \"properties\": {\n        \"dtype\": \"number\",\n        \"std\": 1.8623225816740898,\n        \"min\": 6.54,\n        \"max\": 30.31,\n        \"num_unique_values\": 462,\n        \"samples\": [],\n        \"semantic_type\": \"\",\n        \"description\": \"\"\n      }\n    },\n    {\n      \"column\": \"right canine width intraoral\",\n      \"properties\": {\n        \"dtype\": \"number\",\n        \"std\": 0.3790346197224404,\n        \"min\": 5.46,\n        \"max\": 7.61,\n        \"num_unique_values\": 173,\n        \"samples\": [],\n        \"semantic_type\": \"\",\n        \"description\": \"\"\n      }\n    },\n    {\n      \"column\": \"right canine width casts\",\n      \"properties\": {\n        \"dtype\": \"number\",\n        \"std\": 0.3775525982303316,\n        \"min\": 5.46,\n        \"max\": 7.6,\n        \"num_unique_values\": 173,\n        \"samples\": [],\n        \"semantic_type\": \"\",\n        \"description\": \"\"\n      }\n    },\n    {\n      \"column\": \"left canine width intraoral\",\n      \"properties\": {\n        \"dtype\": \"number\",\n        \"std\": 0.37584112181353746,\n        \"min\": 5.46,\n        \"max\": 7.81,\n        \"num_unique_values\": 172,\n        \"samples\": [],\n        \"semantic_type\": \"\",\n        \"description\": \"\"\n      }\n    },\n    {\n      \"column\": \"left canine width casts\",\n      \"properties\": {\n        \"dtype\": \"number\",\n        \"std\": 0.3770976510555749,\n        \"min\": 5.46,\n        \"max\": 7.81,\n        \"num_unique_values\": 172,\n        \"samples\": [],\n        \"semantic_type\": \"\",\n        \"description\": \"\"\n      }\n    },\n    {\n      \"column\": \"right canine index intra oral\",\n      \"properties\": {\n        \"dtype\": \"number\",\n        \"std\": 0.015343909420054664,\n        \"min\": 0.223,\n        \"max\": 0.363,\n        \"num_unique_values\": 80,\n        \"samples\": [],\n        \"semantic_type\": \"\",\n        \"description\": \"\"\n      }\n    },\n    {\n      \"column\": \"right canine index casts\",\n      \"properties\": {\n        \"dtype\": \"number\",\n        \"std\": 0.012892419963445804,\n        \"min\": 0.223,\n        \"max\": 0.302,\n        \"num_unique_values\": 72,\n        \"samples\": [],\n        \"semantic_type\": \"\",\n        \"description\": \"\"\n      }\n    },\n    {\n      \"column\": \"left canine index intraoral\",\n      \"properties\": {\n        \"dtype\": \"number\",\n        \"std\": 0.012355388866704323,\n        \"min\": 0.223,\n        \"max\": 0.305,\n        \"num_unique_values\": 72,\n        \"samples\": [],\n        \"semantic_type\": \"\",\n        \"description\": \"\"\n      }\n    },\n    {\n      \"column\": \"left canine index casts\",\n      \"properties\": {\n        \"dtype\": \"number\",\n        \"std\": 0.012373903351778376,\n        \"min\": 0.223,\n        \"max\": 0.304,\n        \"num_unique_values\": 72,\n        \"samples\": [],\n        \"semantic_type\": \"\",\n        \"description\": \"\"\n      }\n    }\n  ]\n}"
            }
          },
          "metadata": {},
          "execution_count": 84
        }
      ]
    },
    {
      "cell_type": "markdown",
      "source": [
        "**What are the missing values in the dataset?**"
      ],
      "metadata": {
        "id": "Xqkv8Oo2tRpu"
      }
    },
    {
      "cell_type": "code",
      "source": [
        "# Check for missing values\n",
        "df.isnull().sum()"
      ],
      "metadata": {
        "colab": {
          "base_uri": "https://localhost:8080/",
          "height": 523
        },
        "id": "LShYfntItGNv",
        "outputId": "7380a751-b833-4392-89f1-d258d3133bf4"
      },
      "execution_count": 85,
      "outputs": [
        {
          "output_type": "execute_result",
          "data": {
            "text/plain": [
              "Sl No                                 0\n",
              "Sample ID                          1100\n",
              "Age                                   0\n",
              "Gender                                0\n",
              "inter canine distance intraoral       0\n",
              "intercanine distance casts            0\n",
              "right canine width intraoral          0\n",
              "right canine width casts              0\n",
              "left canine width intraoral           0\n",
              "left canine width casts               0\n",
              "right canine index intra oral         0\n",
              "right canine index casts              0\n",
              "left canine index intraoral           0\n",
              "left canine index casts               0\n",
              "dtype: int64"
            ],
            "text/html": [
              "<div>\n",
              "<style scoped>\n",
              "    .dataframe tbody tr th:only-of-type {\n",
              "        vertical-align: middle;\n",
              "    }\n",
              "\n",
              "    .dataframe tbody tr th {\n",
              "        vertical-align: top;\n",
              "    }\n",
              "\n",
              "    .dataframe thead th {\n",
              "        text-align: right;\n",
              "    }\n",
              "</style>\n",
              "<table border=\"1\" class=\"dataframe\">\n",
              "  <thead>\n",
              "    <tr style=\"text-align: right;\">\n",
              "      <th></th>\n",
              "      <th>0</th>\n",
              "    </tr>\n",
              "  </thead>\n",
              "  <tbody>\n",
              "    <tr>\n",
              "      <th>Sl No</th>\n",
              "      <td>0</td>\n",
              "    </tr>\n",
              "    <tr>\n",
              "      <th>Sample ID</th>\n",
              "      <td>1100</td>\n",
              "    </tr>\n",
              "    <tr>\n",
              "      <th>Age</th>\n",
              "      <td>0</td>\n",
              "    </tr>\n",
              "    <tr>\n",
              "      <th>Gender</th>\n",
              "      <td>0</td>\n",
              "    </tr>\n",
              "    <tr>\n",
              "      <th>inter canine distance intraoral</th>\n",
              "      <td>0</td>\n",
              "    </tr>\n",
              "    <tr>\n",
              "      <th>intercanine distance casts</th>\n",
              "      <td>0</td>\n",
              "    </tr>\n",
              "    <tr>\n",
              "      <th>right canine width intraoral</th>\n",
              "      <td>0</td>\n",
              "    </tr>\n",
              "    <tr>\n",
              "      <th>right canine width casts</th>\n",
              "      <td>0</td>\n",
              "    </tr>\n",
              "    <tr>\n",
              "      <th>left canine width intraoral</th>\n",
              "      <td>0</td>\n",
              "    </tr>\n",
              "    <tr>\n",
              "      <th>left canine width casts</th>\n",
              "      <td>0</td>\n",
              "    </tr>\n",
              "    <tr>\n",
              "      <th>right canine index intra oral</th>\n",
              "      <td>0</td>\n",
              "    </tr>\n",
              "    <tr>\n",
              "      <th>right canine index casts</th>\n",
              "      <td>0</td>\n",
              "    </tr>\n",
              "    <tr>\n",
              "      <th>left canine index intraoral</th>\n",
              "      <td>0</td>\n",
              "    </tr>\n",
              "    <tr>\n",
              "      <th>left canine index casts</th>\n",
              "      <td>0</td>\n",
              "    </tr>\n",
              "  </tbody>\n",
              "</table>\n",
              "</div><br><label><b>dtype:</b> int64</label>"
            ]
          },
          "metadata": {},
          "execution_count": 85
        }
      ]
    },
    {
      "cell_type": "code",
      "source": [
        "print(df.columns)\n",
        "\n"
      ],
      "metadata": {
        "colab": {
          "base_uri": "https://localhost:8080/"
        },
        "id": "i68nsp7ExkRQ",
        "outputId": "b25b102e-6580-4e45-ddcc-64f4fecff7ba"
      },
      "execution_count": 86,
      "outputs": [
        {
          "output_type": "stream",
          "name": "stdout",
          "text": [
            "Index(['Sl No', 'Sample ID', 'Age', 'Gender',\n",
            "       'inter canine distance intraoral', 'intercanine distance casts',\n",
            "       'right canine width intraoral', 'right canine width casts',\n",
            "       'left canine width intraoral', 'left canine width casts',\n",
            "       'right canine index intra oral', 'right canine index casts',\n",
            "       'left canine index intraoral', 'left canine index casts'],\n",
            "      dtype='object')\n"
          ]
        }
      ]
    },
    {
      "cell_type": "markdown",
      "source": [
        "**Step 2: Data Preprocessingv**"
      ],
      "metadata": {
        "id": "Cy8oYmMotfKu"
      }
    },
    {
      "cell_type": "markdown",
      "source": [
        "**How do you handle missing values?**"
      ],
      "metadata": {
        "id": "bpCcs_oLtnqz"
      }
    },
    {
      "cell_type": "code",
      "source": [
        "import pandas as pd\n",
        "\n",
        "# Identify numeric and categorical columns\n",
        "numeric_cols = df.select_dtypes(include=['number']).columns\n",
        "categorical_cols = df.select_dtypes(include=['object']).columns\n",
        "\n",
        "# Fill missing values\n",
        "df[numeric_cols] = df[numeric_cols].fillna(df[numeric_cols].mean())\n",
        "df[categorical_cols] = df[categorical_cols].fillna(df[categorical_cols].mode().iloc[0])\n"
      ],
      "metadata": {
        "id": "lQY2CPEFwF8n"
      },
      "execution_count": 87,
      "outputs": []
    },
    {
      "cell_type": "code",
      "source": [
        "# Fill missing values for numeric columns\n",
        "numeric_cols = df.select_dtypes(include=['number']).columns\n",
        "df[numeric_cols] = df[numeric_cols].fillna(df[numeric_cols].mean())\n",
        "\n",
        "# Fill missing values for categorical columns\n",
        "categorical_cols = df.select_dtypes(include=['object']).columns\n",
        "df[categorical_cols] = df[categorical_cols].fillna(df[categorical_cols].mode().iloc[0])\n"
      ],
      "metadata": {
        "id": "WLhMv8g8uKr7"
      },
      "execution_count": 88,
      "outputs": []
    },
    {
      "cell_type": "code",
      "source": [
        "print(df.dtypes)\n"
      ],
      "metadata": {
        "colab": {
          "base_uri": "https://localhost:8080/"
        },
        "id": "lzt2wlEGwidp",
        "outputId": "f3545872-67a4-4867-8772-1f565802f027"
      },
      "execution_count": 89,
      "outputs": [
        {
          "output_type": "stream",
          "name": "stdout",
          "text": [
            "Sl No                                int64\n",
            "Sample ID                          float64\n",
            "Age                                  int64\n",
            "Gender                              object\n",
            "inter canine distance intraoral    float64\n",
            "intercanine distance casts         float64\n",
            "right canine width intraoral       float64\n",
            "right canine width casts           float64\n",
            "left canine width intraoral        float64\n",
            "left canine width casts            float64\n",
            "right canine index intra oral      float64\n",
            "right canine index casts           float64\n",
            "left canine index intraoral        float64\n",
            "left canine index casts            float64\n",
            "dtype: object\n"
          ]
        }
      ]
    },
    {
      "cell_type": "code",
      "source": [
        "for col in df.columns:\n",
        "    print(f\"{col}: {df[col].apply(type).unique()}\")\n"
      ],
      "metadata": {
        "colab": {
          "base_uri": "https://localhost:8080/"
        },
        "id": "reFYzLvnwmhE",
        "outputId": "a9ce6c69-8ef8-4acf-beb3-3c8c89ad62e0"
      },
      "execution_count": 90,
      "outputs": [
        {
          "output_type": "stream",
          "name": "stdout",
          "text": [
            "Sl No: [<class 'int'>]\n",
            "Sample ID: [<class 'float'>]\n",
            "Age: [<class 'int'>]\n",
            "Gender: [<class 'str'>]\n",
            "inter canine distance intraoral: [<class 'float'>]\n",
            "intercanine distance casts: [<class 'float'>]\n",
            "right canine width intraoral: [<class 'float'>]\n",
            "right canine width casts: [<class 'float'>]\n",
            "left canine width intraoral: [<class 'float'>]\n",
            "left canine width casts: [<class 'float'>]\n",
            "right canine index intra oral: [<class 'float'>]\n",
            "right canine index casts: [<class 'float'>]\n",
            "left canine index intraoral: [<class 'float'>]\n",
            "left canine index casts: [<class 'float'>]\n"
          ]
        }
      ]
    },
    {
      "cell_type": "code",
      "source": [
        "df[categorical_cols] = df[categorical_cols].apply(lambda x: x.fillna(x.dropna().mode()[0] if not x.dropna().mode().empty else \"Unknown\"))\n"
      ],
      "metadata": {
        "id": "jYj9bnZDxHb-"
      },
      "execution_count": 91,
      "outputs": []
    },
    {
      "cell_type": "code",
      "source": [
        "df['Age'] = pd.to_numeric(df['Age'], errors='coerce')\n"
      ],
      "metadata": {
        "id": "Z-QdkqsexqKt"
      },
      "execution_count": 92,
      "outputs": []
    },
    {
      "cell_type": "code",
      "source": [
        "df.columns = df.columns.str.strip()\n",
        "df.columns = df.columns.str.lower()\n",
        "print(df.columns)\n"
      ],
      "metadata": {
        "colab": {
          "base_uri": "https://localhost:8080/"
        },
        "id": "ah55aRhSxv21",
        "outputId": "20da991a-b149-4a33-e976-796cfedf84ca"
      },
      "execution_count": 93,
      "outputs": [
        {
          "output_type": "stream",
          "name": "stdout",
          "text": [
            "Index(['sl no', 'sample id', 'age', 'gender',\n",
            "       'inter canine distance intraoral', 'intercanine distance casts',\n",
            "       'right canine width intraoral', 'right canine width casts',\n",
            "       'left canine width intraoral', 'left canine width casts',\n",
            "       'right canine index intra oral', 'right canine index casts',\n",
            "       'left canine index intraoral', 'left canine index casts'],\n",
            "      dtype='object')\n"
          ]
        }
      ]
    },
    {
      "cell_type": "code",
      "source": [
        "df.get('your_numeric_column', 'Column Not Found')\n"
      ],
      "metadata": {
        "colab": {
          "base_uri": "https://localhost:8080/",
          "height": 35
        },
        "id": "IbkMF0KWx6RT",
        "outputId": "1b154653-c028-4875-eeca-e02d92c0129f"
      },
      "execution_count": 94,
      "outputs": [
        {
          "output_type": "execute_result",
          "data": {
            "text/plain": [
              "'Column Not Found'"
            ],
            "application/vnd.google.colaboratory.intrinsic+json": {
              "type": "string"
            }
          },
          "metadata": {},
          "execution_count": 94
        }
      ]
    },
    {
      "cell_type": "code",
      "source": [
        "df.get('your_numeric_column')"
      ],
      "metadata": {
        "id": "GQPoI-C6yivx"
      },
      "execution_count": 95,
      "outputs": []
    },
    {
      "cell_type": "code",
      "source": [
        "df.select_dtypes(include=[np.number])"
      ],
      "metadata": {
        "colab": {
          "base_uri": "https://localhost:8080/",
          "height": 513
        },
        "id": "K_iASAqAyv3N",
        "outputId": "3d864f41-9254-4ebe-ce22-b13752751a37"
      },
      "execution_count": 96,
      "outputs": [
        {
          "output_type": "execute_result",
          "data": {
            "text/plain": [
              "      sl no  sample id  age  inter canine distance intraoral  \\\n",
              "0         1        NaN   24                            25.06   \n",
              "1         2        NaN   22                            25.78   \n",
              "2         3        NaN   23                            23.83   \n",
              "3         4        NaN   20                            26.12   \n",
              "4         5        NaN   20                            26.36   \n",
              "...     ...        ...  ...                              ...   \n",
              "1095   1096        NaN   24                            24.29   \n",
              "1096   1097        NaN   22                            25.22   \n",
              "1097   1098        NaN   25                            24.24   \n",
              "1098   1099        NaN   21                            24.87   \n",
              "1099   1100        NaN   23                            24.51   \n",
              "\n",
              "      intercanine distance casts  right canine width intraoral  \\\n",
              "0                          25.05                          6.08   \n",
              "1                          25.79                          6.13   \n",
              "2                          23.83                          5.91   \n",
              "3                          26.12                          6.08   \n",
              "4                          26.41                          6.09   \n",
              "...                          ...                           ...   \n",
              "1095                       24.29                          6.58   \n",
              "1096                       25.22                          6.70   \n",
              "1097                       24.24                          6.60   \n",
              "1098                       24.87                          6.57   \n",
              "1099                       24.51                          6.36   \n",
              "\n",
              "      right canine width casts  left canine width intraoral  \\\n",
              "0                         6.08                         6.09   \n",
              "1                         6.13                         6.33   \n",
              "2                         5.96                         6.28   \n",
              "3                         6.08                         6.56   \n",
              "4                         6.09                         6.50   \n",
              "...                        ...                          ...   \n",
              "1095                      6.58                         6.60   \n",
              "1096                      6.70                         6.80   \n",
              "1097                      6.60                         6.61   \n",
              "1098                      6.57                         6.66   \n",
              "1099                      6.36                         6.78   \n",
              "\n",
              "      left canine width casts  right canine index intra oral  \\\n",
              "0                        6.10                          0.242   \n",
              "1                        6.33                          0.237   \n",
              "2                        6.28                          0.248   \n",
              "3                        6.56                          0.232   \n",
              "4                        6.50                          0.231   \n",
              "...                       ...                            ...   \n",
              "1095                     6.60                          0.271   \n",
              "1096                     6.80                          0.265   \n",
              "1097                     6.61                          0.272   \n",
              "1098                     6.66                          0.264   \n",
              "1099                     6.78                          0.259   \n",
              "\n",
              "      right canine index casts  left canine index intraoral  \\\n",
              "0                        0.242                        0.242   \n",
              "1                        0.237                        0.247   \n",
              "2                        0.248                        0.264   \n",
              "3                        0.232                        0.250   \n",
              "4                        0.231                        0.246   \n",
              "...                        ...                          ...   \n",
              "1095                     0.271                        0.272   \n",
              "1096                     0.265                        0.269   \n",
              "1097                     0.272                        0.272   \n",
              "1098                     0.264                        0.267   \n",
              "1099                     0.259                        0.276   \n",
              "\n",
              "      left canine index casts  \n",
              "0                       0.241  \n",
              "1                       0.247  \n",
              "2                       0.264  \n",
              "3                       0.250  \n",
              "4                       0.246  \n",
              "...                       ...  \n",
              "1095                    0.272  \n",
              "1096                    0.269  \n",
              "1097                    0.272  \n",
              "1098                    0.267  \n",
              "1099                    0.276  \n",
              "\n",
              "[1100 rows x 13 columns]"
            ],
            "text/html": [
              "\n",
              "  <div id=\"df-21cf997c-8e31-409f-821c-51b74d9aa7fe\" class=\"colab-df-container\">\n",
              "    <div>\n",
              "<style scoped>\n",
              "    .dataframe tbody tr th:only-of-type {\n",
              "        vertical-align: middle;\n",
              "    }\n",
              "\n",
              "    .dataframe tbody tr th {\n",
              "        vertical-align: top;\n",
              "    }\n",
              "\n",
              "    .dataframe thead th {\n",
              "        text-align: right;\n",
              "    }\n",
              "</style>\n",
              "<table border=\"1\" class=\"dataframe\">\n",
              "  <thead>\n",
              "    <tr style=\"text-align: right;\">\n",
              "      <th></th>\n",
              "      <th>sl no</th>\n",
              "      <th>sample id</th>\n",
              "      <th>age</th>\n",
              "      <th>inter canine distance intraoral</th>\n",
              "      <th>intercanine distance casts</th>\n",
              "      <th>right canine width intraoral</th>\n",
              "      <th>right canine width casts</th>\n",
              "      <th>left canine width intraoral</th>\n",
              "      <th>left canine width casts</th>\n",
              "      <th>right canine index intra oral</th>\n",
              "      <th>right canine index casts</th>\n",
              "      <th>left canine index intraoral</th>\n",
              "      <th>left canine index casts</th>\n",
              "    </tr>\n",
              "  </thead>\n",
              "  <tbody>\n",
              "    <tr>\n",
              "      <th>0</th>\n",
              "      <td>1</td>\n",
              "      <td>NaN</td>\n",
              "      <td>24</td>\n",
              "      <td>25.06</td>\n",
              "      <td>25.05</td>\n",
              "      <td>6.08</td>\n",
              "      <td>6.08</td>\n",
              "      <td>6.09</td>\n",
              "      <td>6.10</td>\n",
              "      <td>0.242</td>\n",
              "      <td>0.242</td>\n",
              "      <td>0.242</td>\n",
              "      <td>0.241</td>\n",
              "    </tr>\n",
              "    <tr>\n",
              "      <th>1</th>\n",
              "      <td>2</td>\n",
              "      <td>NaN</td>\n",
              "      <td>22</td>\n",
              "      <td>25.78</td>\n",
              "      <td>25.79</td>\n",
              "      <td>6.13</td>\n",
              "      <td>6.13</td>\n",
              "      <td>6.33</td>\n",
              "      <td>6.33</td>\n",
              "      <td>0.237</td>\n",
              "      <td>0.237</td>\n",
              "      <td>0.247</td>\n",
              "      <td>0.247</td>\n",
              "    </tr>\n",
              "    <tr>\n",
              "      <th>2</th>\n",
              "      <td>3</td>\n",
              "      <td>NaN</td>\n",
              "      <td>23</td>\n",
              "      <td>23.83</td>\n",
              "      <td>23.83</td>\n",
              "      <td>5.91</td>\n",
              "      <td>5.96</td>\n",
              "      <td>6.28</td>\n",
              "      <td>6.28</td>\n",
              "      <td>0.248</td>\n",
              "      <td>0.248</td>\n",
              "      <td>0.264</td>\n",
              "      <td>0.264</td>\n",
              "    </tr>\n",
              "    <tr>\n",
              "      <th>3</th>\n",
              "      <td>4</td>\n",
              "      <td>NaN</td>\n",
              "      <td>20</td>\n",
              "      <td>26.12</td>\n",
              "      <td>26.12</td>\n",
              "      <td>6.08</td>\n",
              "      <td>6.08</td>\n",
              "      <td>6.56</td>\n",
              "      <td>6.56</td>\n",
              "      <td>0.232</td>\n",
              "      <td>0.232</td>\n",
              "      <td>0.250</td>\n",
              "      <td>0.250</td>\n",
              "    </tr>\n",
              "    <tr>\n",
              "      <th>4</th>\n",
              "      <td>5</td>\n",
              "      <td>NaN</td>\n",
              "      <td>20</td>\n",
              "      <td>26.36</td>\n",
              "      <td>26.41</td>\n",
              "      <td>6.09</td>\n",
              "      <td>6.09</td>\n",
              "      <td>6.50</td>\n",
              "      <td>6.50</td>\n",
              "      <td>0.231</td>\n",
              "      <td>0.231</td>\n",
              "      <td>0.246</td>\n",
              "      <td>0.246</td>\n",
              "    </tr>\n",
              "    <tr>\n",
              "      <th>...</th>\n",
              "      <td>...</td>\n",
              "      <td>...</td>\n",
              "      <td>...</td>\n",
              "      <td>...</td>\n",
              "      <td>...</td>\n",
              "      <td>...</td>\n",
              "      <td>...</td>\n",
              "      <td>...</td>\n",
              "      <td>...</td>\n",
              "      <td>...</td>\n",
              "      <td>...</td>\n",
              "      <td>...</td>\n",
              "      <td>...</td>\n",
              "    </tr>\n",
              "    <tr>\n",
              "      <th>1095</th>\n",
              "      <td>1096</td>\n",
              "      <td>NaN</td>\n",
              "      <td>24</td>\n",
              "      <td>24.29</td>\n",
              "      <td>24.29</td>\n",
              "      <td>6.58</td>\n",
              "      <td>6.58</td>\n",
              "      <td>6.60</td>\n",
              "      <td>6.60</td>\n",
              "      <td>0.271</td>\n",
              "      <td>0.271</td>\n",
              "      <td>0.272</td>\n",
              "      <td>0.272</td>\n",
              "    </tr>\n",
              "    <tr>\n",
              "      <th>1096</th>\n",
              "      <td>1097</td>\n",
              "      <td>NaN</td>\n",
              "      <td>22</td>\n",
              "      <td>25.22</td>\n",
              "      <td>25.22</td>\n",
              "      <td>6.70</td>\n",
              "      <td>6.70</td>\n",
              "      <td>6.80</td>\n",
              "      <td>6.80</td>\n",
              "      <td>0.265</td>\n",
              "      <td>0.265</td>\n",
              "      <td>0.269</td>\n",
              "      <td>0.269</td>\n",
              "    </tr>\n",
              "    <tr>\n",
              "      <th>1097</th>\n",
              "      <td>1098</td>\n",
              "      <td>NaN</td>\n",
              "      <td>25</td>\n",
              "      <td>24.24</td>\n",
              "      <td>24.24</td>\n",
              "      <td>6.60</td>\n",
              "      <td>6.60</td>\n",
              "      <td>6.61</td>\n",
              "      <td>6.61</td>\n",
              "      <td>0.272</td>\n",
              "      <td>0.272</td>\n",
              "      <td>0.272</td>\n",
              "      <td>0.272</td>\n",
              "    </tr>\n",
              "    <tr>\n",
              "      <th>1098</th>\n",
              "      <td>1099</td>\n",
              "      <td>NaN</td>\n",
              "      <td>21</td>\n",
              "      <td>24.87</td>\n",
              "      <td>24.87</td>\n",
              "      <td>6.57</td>\n",
              "      <td>6.57</td>\n",
              "      <td>6.66</td>\n",
              "      <td>6.66</td>\n",
              "      <td>0.264</td>\n",
              "      <td>0.264</td>\n",
              "      <td>0.267</td>\n",
              "      <td>0.267</td>\n",
              "    </tr>\n",
              "    <tr>\n",
              "      <th>1099</th>\n",
              "      <td>1100</td>\n",
              "      <td>NaN</td>\n",
              "      <td>23</td>\n",
              "      <td>24.51</td>\n",
              "      <td>24.51</td>\n",
              "      <td>6.36</td>\n",
              "      <td>6.36</td>\n",
              "      <td>6.78</td>\n",
              "      <td>6.78</td>\n",
              "      <td>0.259</td>\n",
              "      <td>0.259</td>\n",
              "      <td>0.276</td>\n",
              "      <td>0.276</td>\n",
              "    </tr>\n",
              "  </tbody>\n",
              "</table>\n",
              "<p>1100 rows × 13 columns</p>\n",
              "</div>\n",
              "    <div class=\"colab-df-buttons\">\n",
              "\n",
              "  <div class=\"colab-df-container\">\n",
              "    <button class=\"colab-df-convert\" onclick=\"convertToInteractive('df-21cf997c-8e31-409f-821c-51b74d9aa7fe')\"\n",
              "            title=\"Convert this dataframe to an interactive table.\"\n",
              "            style=\"display:none;\">\n",
              "\n",
              "  <svg xmlns=\"http://www.w3.org/2000/svg\" height=\"24px\" viewBox=\"0 -960 960 960\">\n",
              "    <path d=\"M120-120v-720h720v720H120Zm60-500h600v-160H180v160Zm220 220h160v-160H400v160Zm0 220h160v-160H400v160ZM180-400h160v-160H180v160Zm440 0h160v-160H620v160ZM180-180h160v-160H180v160Zm440 0h160v-160H620v160Z\"/>\n",
              "  </svg>\n",
              "    </button>\n",
              "\n",
              "  <style>\n",
              "    .colab-df-container {\n",
              "      display:flex;\n",
              "      gap: 12px;\n",
              "    }\n",
              "\n",
              "    .colab-df-convert {\n",
              "      background-color: #E8F0FE;\n",
              "      border: none;\n",
              "      border-radius: 50%;\n",
              "      cursor: pointer;\n",
              "      display: none;\n",
              "      fill: #1967D2;\n",
              "      height: 32px;\n",
              "      padding: 0 0 0 0;\n",
              "      width: 32px;\n",
              "    }\n",
              "\n",
              "    .colab-df-convert:hover {\n",
              "      background-color: #E2EBFA;\n",
              "      box-shadow: 0px 1px 2px rgba(60, 64, 67, 0.3), 0px 1px 3px 1px rgba(60, 64, 67, 0.15);\n",
              "      fill: #174EA6;\n",
              "    }\n",
              "\n",
              "    .colab-df-buttons div {\n",
              "      margin-bottom: 4px;\n",
              "    }\n",
              "\n",
              "    [theme=dark] .colab-df-convert {\n",
              "      background-color: #3B4455;\n",
              "      fill: #D2E3FC;\n",
              "    }\n",
              "\n",
              "    [theme=dark] .colab-df-convert:hover {\n",
              "      background-color: #434B5C;\n",
              "      box-shadow: 0px 1px 3px 1px rgba(0, 0, 0, 0.15);\n",
              "      filter: drop-shadow(0px 1px 2px rgba(0, 0, 0, 0.3));\n",
              "      fill: #FFFFFF;\n",
              "    }\n",
              "  </style>\n",
              "\n",
              "    <script>\n",
              "      const buttonEl =\n",
              "        document.querySelector('#df-21cf997c-8e31-409f-821c-51b74d9aa7fe button.colab-df-convert');\n",
              "      buttonEl.style.display =\n",
              "        google.colab.kernel.accessAllowed ? 'block' : 'none';\n",
              "\n",
              "      async function convertToInteractive(key) {\n",
              "        const element = document.querySelector('#df-21cf997c-8e31-409f-821c-51b74d9aa7fe');\n",
              "        const dataTable =\n",
              "          await google.colab.kernel.invokeFunction('convertToInteractive',\n",
              "                                                    [key], {});\n",
              "        if (!dataTable) return;\n",
              "\n",
              "        const docLinkHtml = 'Like what you see? Visit the ' +\n",
              "          '<a target=\"_blank\" href=https://colab.research.google.com/notebooks/data_table.ipynb>data table notebook</a>'\n",
              "          + ' to learn more about interactive tables.';\n",
              "        element.innerHTML = '';\n",
              "        dataTable['output_type'] = 'display_data';\n",
              "        await google.colab.output.renderOutput(dataTable, element);\n",
              "        const docLink = document.createElement('div');\n",
              "        docLink.innerHTML = docLinkHtml;\n",
              "        element.appendChild(docLink);\n",
              "      }\n",
              "    </script>\n",
              "  </div>\n",
              "\n",
              "\n",
              "<div id=\"df-8895ea67-aaac-4cd0-a631-3b1a36a69341\">\n",
              "  <button class=\"colab-df-quickchart\" onclick=\"quickchart('df-8895ea67-aaac-4cd0-a631-3b1a36a69341')\"\n",
              "            title=\"Suggest charts\"\n",
              "            style=\"display:none;\">\n",
              "\n",
              "<svg xmlns=\"http://www.w3.org/2000/svg\" height=\"24px\"viewBox=\"0 0 24 24\"\n",
              "     width=\"24px\">\n",
              "    <g>\n",
              "        <path d=\"M19 3H5c-1.1 0-2 .9-2 2v14c0 1.1.9 2 2 2h14c1.1 0 2-.9 2-2V5c0-1.1-.9-2-2-2zM9 17H7v-7h2v7zm4 0h-2V7h2v10zm4 0h-2v-4h2v4z\"/>\n",
              "    </g>\n",
              "</svg>\n",
              "  </button>\n",
              "\n",
              "<style>\n",
              "  .colab-df-quickchart {\n",
              "      --bg-color: #E8F0FE;\n",
              "      --fill-color: #1967D2;\n",
              "      --hover-bg-color: #E2EBFA;\n",
              "      --hover-fill-color: #174EA6;\n",
              "      --disabled-fill-color: #AAA;\n",
              "      --disabled-bg-color: #DDD;\n",
              "  }\n",
              "\n",
              "  [theme=dark] .colab-df-quickchart {\n",
              "      --bg-color: #3B4455;\n",
              "      --fill-color: #D2E3FC;\n",
              "      --hover-bg-color: #434B5C;\n",
              "      --hover-fill-color: #FFFFFF;\n",
              "      --disabled-bg-color: #3B4455;\n",
              "      --disabled-fill-color: #666;\n",
              "  }\n",
              "\n",
              "  .colab-df-quickchart {\n",
              "    background-color: var(--bg-color);\n",
              "    border: none;\n",
              "    border-radius: 50%;\n",
              "    cursor: pointer;\n",
              "    display: none;\n",
              "    fill: var(--fill-color);\n",
              "    height: 32px;\n",
              "    padding: 0;\n",
              "    width: 32px;\n",
              "  }\n",
              "\n",
              "  .colab-df-quickchart:hover {\n",
              "    background-color: var(--hover-bg-color);\n",
              "    box-shadow: 0 1px 2px rgba(60, 64, 67, 0.3), 0 1px 3px 1px rgba(60, 64, 67, 0.15);\n",
              "    fill: var(--button-hover-fill-color);\n",
              "  }\n",
              "\n",
              "  .colab-df-quickchart-complete:disabled,\n",
              "  .colab-df-quickchart-complete:disabled:hover {\n",
              "    background-color: var(--disabled-bg-color);\n",
              "    fill: var(--disabled-fill-color);\n",
              "    box-shadow: none;\n",
              "  }\n",
              "\n",
              "  .colab-df-spinner {\n",
              "    border: 2px solid var(--fill-color);\n",
              "    border-color: transparent;\n",
              "    border-bottom-color: var(--fill-color);\n",
              "    animation:\n",
              "      spin 1s steps(1) infinite;\n",
              "  }\n",
              "\n",
              "  @keyframes spin {\n",
              "    0% {\n",
              "      border-color: transparent;\n",
              "      border-bottom-color: var(--fill-color);\n",
              "      border-left-color: var(--fill-color);\n",
              "    }\n",
              "    20% {\n",
              "      border-color: transparent;\n",
              "      border-left-color: var(--fill-color);\n",
              "      border-top-color: var(--fill-color);\n",
              "    }\n",
              "    30% {\n",
              "      border-color: transparent;\n",
              "      border-left-color: var(--fill-color);\n",
              "      border-top-color: var(--fill-color);\n",
              "      border-right-color: var(--fill-color);\n",
              "    }\n",
              "    40% {\n",
              "      border-color: transparent;\n",
              "      border-right-color: var(--fill-color);\n",
              "      border-top-color: var(--fill-color);\n",
              "    }\n",
              "    60% {\n",
              "      border-color: transparent;\n",
              "      border-right-color: var(--fill-color);\n",
              "    }\n",
              "    80% {\n",
              "      border-color: transparent;\n",
              "      border-right-color: var(--fill-color);\n",
              "      border-bottom-color: var(--fill-color);\n",
              "    }\n",
              "    90% {\n",
              "      border-color: transparent;\n",
              "      border-bottom-color: var(--fill-color);\n",
              "    }\n",
              "  }\n",
              "</style>\n",
              "\n",
              "  <script>\n",
              "    async function quickchart(key) {\n",
              "      const quickchartButtonEl =\n",
              "        document.querySelector('#' + key + ' button');\n",
              "      quickchartButtonEl.disabled = true;  // To prevent multiple clicks.\n",
              "      quickchartButtonEl.classList.add('colab-df-spinner');\n",
              "      try {\n",
              "        const charts = await google.colab.kernel.invokeFunction(\n",
              "            'suggestCharts', [key], {});\n",
              "      } catch (error) {\n",
              "        console.error('Error during call to suggestCharts:', error);\n",
              "      }\n",
              "      quickchartButtonEl.classList.remove('colab-df-spinner');\n",
              "      quickchartButtonEl.classList.add('colab-df-quickchart-complete');\n",
              "    }\n",
              "    (() => {\n",
              "      let quickchartButtonEl =\n",
              "        document.querySelector('#df-8895ea67-aaac-4cd0-a631-3b1a36a69341 button');\n",
              "      quickchartButtonEl.style.display =\n",
              "        google.colab.kernel.accessAllowed ? 'block' : 'none';\n",
              "    })();\n",
              "  </script>\n",
              "</div>\n",
              "\n",
              "    </div>\n",
              "  </div>\n"
            ],
            "application/vnd.google.colaboratory.intrinsic+json": {
              "type": "dataframe",
              "summary": "{\n  \"name\": \"df\",\n  \"rows\": 1100,\n  \"fields\": [\n    {\n      \"column\": \"sl no\",\n      \"properties\": {\n        \"dtype\": \"number\",\n        \"std\": 317,\n        \"min\": 1,\n        \"max\": 1100,\n        \"num_unique_values\": 1100,\n        \"samples\": [\n          329,\n          689,\n          414\n        ],\n        \"semantic_type\": \"\",\n        \"description\": \"\"\n      }\n    },\n    {\n      \"column\": \"sample id\",\n      \"properties\": {\n        \"dtype\": \"number\",\n        \"std\": null,\n        \"min\": null,\n        \"max\": null,\n        \"num_unique_values\": 0,\n        \"samples\": [],\n        \"semantic_type\": \"\",\n        \"description\": \"\"\n      }\n    },\n    {\n      \"column\": \"age\",\n      \"properties\": {\n        \"dtype\": \"number\",\n        \"std\": 2,\n        \"min\": 18,\n        \"max\": 25,\n        \"num_unique_values\": 8,\n        \"samples\": [],\n        \"semantic_type\": \"\",\n        \"description\": \"\"\n      }\n    },\n    {\n      \"column\": \"inter canine distance intraoral\",\n      \"properties\": {\n        \"dtype\": \"number\",\n        \"std\": 1.3152919526684572,\n        \"min\": 23.12,\n        \"max\": 30.31,\n        \"num_unique_values\": 456,\n        \"samples\": [],\n        \"semantic_type\": \"\",\n        \"description\": \"\"\n      }\n    },\n    {\n      \"column\": \"intercanine distance casts\",\n      \"properties\": {\n        \"dtype\": \"number\",\n        \"std\": 1.8623225816740898,\n        \"min\": 6.54,\n        \"max\": 30.31,\n        \"num_unique_values\": 462,\n        \"samples\": [],\n        \"semantic_type\": \"\",\n        \"description\": \"\"\n      }\n    },\n    {\n      \"column\": \"right canine width intraoral\",\n      \"properties\": {\n        \"dtype\": \"number\",\n        \"std\": 0.3790346197224404,\n        \"min\": 5.46,\n        \"max\": 7.61,\n        \"num_unique_values\": 173,\n        \"samples\": [],\n        \"semantic_type\": \"\",\n        \"description\": \"\"\n      }\n    },\n    {\n      \"column\": \"right canine width casts\",\n      \"properties\": {\n        \"dtype\": \"number\",\n        \"std\": 0.3775525982303316,\n        \"min\": 5.46,\n        \"max\": 7.6,\n        \"num_unique_values\": 173,\n        \"samples\": [],\n        \"semantic_type\": \"\",\n        \"description\": \"\"\n      }\n    },\n    {\n      \"column\": \"left canine width intraoral\",\n      \"properties\": {\n        \"dtype\": \"number\",\n        \"std\": 0.37584112181353746,\n        \"min\": 5.46,\n        \"max\": 7.81,\n        \"num_unique_values\": 172,\n        \"samples\": [],\n        \"semantic_type\": \"\",\n        \"description\": \"\"\n      }\n    },\n    {\n      \"column\": \"left canine width casts\",\n      \"properties\": {\n        \"dtype\": \"number\",\n        \"std\": 0.3770976510555749,\n        \"min\": 5.46,\n        \"max\": 7.81,\n        \"num_unique_values\": 172,\n        \"samples\": [],\n        \"semantic_type\": \"\",\n        \"description\": \"\"\n      }\n    },\n    {\n      \"column\": \"right canine index intra oral\",\n      \"properties\": {\n        \"dtype\": \"number\",\n        \"std\": 0.015343909420054664,\n        \"min\": 0.223,\n        \"max\": 0.363,\n        \"num_unique_values\": 80,\n        \"samples\": [],\n        \"semantic_type\": \"\",\n        \"description\": \"\"\n      }\n    },\n    {\n      \"column\": \"right canine index casts\",\n      \"properties\": {\n        \"dtype\": \"number\",\n        \"std\": 0.012892419963445804,\n        \"min\": 0.223,\n        \"max\": 0.302,\n        \"num_unique_values\": 72,\n        \"samples\": [],\n        \"semantic_type\": \"\",\n        \"description\": \"\"\n      }\n    },\n    {\n      \"column\": \"left canine index intraoral\",\n      \"properties\": {\n        \"dtype\": \"number\",\n        \"std\": 0.012355388866704323,\n        \"min\": 0.223,\n        \"max\": 0.305,\n        \"num_unique_values\": 72,\n        \"samples\": [],\n        \"semantic_type\": \"\",\n        \"description\": \"\"\n      }\n    },\n    {\n      \"column\": \"left canine index casts\",\n      \"properties\": {\n        \"dtype\": \"number\",\n        \"std\": 0.012373903351778376,\n        \"min\": 0.223,\n        \"max\": 0.304,\n        \"num_unique_values\": 72,\n        \"samples\": [],\n        \"semantic_type\": \"\",\n        \"description\": \"\"\n      }\n    }\n  ]\n}"
            }
          },
          "metadata": {},
          "execution_count": 96
        }
      ]
    },
    {
      "cell_type": "code",
      "source": [
        "df.fillna(df.select_dtypes(include=[np.number]).mean(), inplace=True)"
      ],
      "metadata": {
        "id": "GyRs7buay5MO"
      },
      "execution_count": 97,
      "outputs": []
    },
    {
      "cell_type": "code",
      "source": [
        "import pandas as pd\n",
        "import numpy as np\n",
        "\n",
        "print(df.columns)\n",
        "\n",
        "df.fillna(df.select_dtypes(include=[np.number]).mean(), inplace=True)\n",
        "\n",
        "categorical_cols = df.select_dtypes(include=[object]).columns\n",
        "for col in categorical_cols:\n",
        "    df[col] = df[col].fillna(df[col].mode()[0])\n",
        "\n"
      ],
      "metadata": {
        "colab": {
          "base_uri": "https://localhost:8080/"
        },
        "id": "05kXonJEzFsC",
        "outputId": "fc7b4d4b-d7d4-4970-bc01-b69ef6805a66"
      },
      "execution_count": 98,
      "outputs": [
        {
          "output_type": "stream",
          "name": "stdout",
          "text": [
            "Index(['sl no', 'sample id', 'age', 'gender',\n",
            "       'inter canine distance intraoral', 'intercanine distance casts',\n",
            "       'right canine width intraoral', 'right canine width casts',\n",
            "       'left canine width intraoral', 'left canine width casts',\n",
            "       'right canine index intra oral', 'right canine index casts',\n",
            "       'left canine index intraoral', 'left canine index casts'],\n",
            "      dtype='object')\n"
          ]
        }
      ]
    },
    {
      "cell_type": "code",
      "source": [
        "import pandas as pd\n",
        "import numpy as np\n",
        "\n",
        "num_cols = df.select_dtypes(include=[np.number]).columns\n",
        "\n",
        "df[num_cols] = df[num_cols].fillna(df[num_cols].mean())\n",
        "\n",
        "cat_cols = df.select_dtypes(include=['object']).columns\n",
        "\n",
        "for col in cat_cols:\n",
        "    df[col] = df[col].fillna(df[col].mode()[0])\n",
        "\n",
        "print(df.isnull().sum())\n"
      ],
      "metadata": {
        "colab": {
          "base_uri": "https://localhost:8080/"
        },
        "id": "C-c2FhLNzm3y",
        "outputId": "7588c91f-5415-4094-8a09-39178f2c2866"
      },
      "execution_count": 99,
      "outputs": [
        {
          "output_type": "stream",
          "name": "stdout",
          "text": [
            "sl no                                 0\n",
            "sample id                          1100\n",
            "age                                   0\n",
            "gender                                0\n",
            "inter canine distance intraoral       0\n",
            "intercanine distance casts            0\n",
            "right canine width intraoral          0\n",
            "right canine width casts              0\n",
            "left canine width intraoral           0\n",
            "left canine width casts               0\n",
            "right canine index intra oral         0\n",
            "right canine index casts              0\n",
            "left canine index intraoral           0\n",
            "left canine index casts               0\n",
            "dtype: int64\n"
          ]
        }
      ]
    },
    {
      "cell_type": "markdown",
      "source": [
        "How do you encode categorical data like Gender?"
      ],
      "metadata": {
        "id": "BOlw0W1s0GzF"
      }
    },
    {
      "cell_type": "code",
      "source": [
        "print([col for col in df.columns if \"gender\" in col.lower()])\n"
      ],
      "metadata": {
        "colab": {
          "base_uri": "https://localhost:8080/"
        },
        "id": "WcMYXCMk0k0M",
        "outputId": "25d84f92-63d3-4b8a-86ce-db5f760ebc56"
      },
      "execution_count": 100,
      "outputs": [
        {
          "output_type": "stream",
          "name": "stdout",
          "text": [
            "['gender']\n"
          ]
        }
      ]
    },
    {
      "cell_type": "code",
      "source": [
        "encoder = LabelEncoder()\n",
        "df[\"gender\"] = encoder.fit_transform(df[\"gender\"])  # Male = 1, Female = 0\n"
      ],
      "metadata": {
        "id": "8BrouD-wtZBC"
      },
      "execution_count": 101,
      "outputs": []
    },
    {
      "cell_type": "markdown",
      "source": [
        "How do you normalize the independent variables?"
      ],
      "metadata": {
        "id": "5ZwSvVwu0-aD"
      }
    },
    {
      "cell_type": "code",
      "source": [
        "normalizer = Normalizer()\n",
        "X = df.drop(columns=[\"gender\", \"sample id\", \"sl no\"])\n",
        "# Drop non-predictive columns\n",
        "X = normalizer.fit_transform(X)\n"
      ],
      "metadata": {
        "id": "ClTW6oZV08LY"
      },
      "execution_count": 102,
      "outputs": []
    },
    {
      "cell_type": "markdown",
      "source": [
        "**Step 3: Exploratory Data Analysis (EDA)**"
      ],
      "metadata": {
        "id": "sS2daf6-3F8K"
      }
    },
    {
      "cell_type": "markdown",
      "source": [
        "How do you visualize feature correlations?"
      ],
      "metadata": {
        "id": "Gy8KSCmF3L_M"
      }
    },
    {
      "cell_type": "code",
      "source": [
        "plt.figure(figsize=(10, 8))\n",
        "sns.heatmap(df.corr(), annot=True, cmap=\"coolwarm\", fmt=\".2f\")\n",
        "plt.title(\"Feature Correlation Heatmap\")\n",
        "plt.show()\n"
      ],
      "metadata": {
        "colab": {
          "base_uri": "https://localhost:8080/",
          "height": 866
        },
        "id": "Z1YNGECr2lOm",
        "outputId": "e573b308-4f8e-4d1d-c529-904f5c2a7356"
      },
      "execution_count": 103,
      "outputs": [
        {
          "output_type": "display_data",
          "data": {
            "text/plain": [
              "<Figure size 1000x800 with 2 Axes>"
            ],
            "image/png": "[encoded data removed]"
          },
          "metadata": {}
        }
      ]
    },
    {
      "cell_type": "markdown",
      "source": [
        "**Step 4: Model Building**"
      ],
      "metadata": {
        "id": "pWebrS3U3Xas"
      }
    },
    {
      "cell_type": "markdown",
      "source": [
        " How do you split the dataset into train and test sets?"
      ],
      "metadata": {
        "id": "9ORo1uFd3dTU"
      }
    },
    {
      "cell_type": "code",
      "source": [
        "X_train, X_test, y_train, y_test = train_test_split(X, df[\"gender\"], test_size=0.2, random_state=42)\n"
      ],
      "metadata": {
        "id": "NBog3oGm3Rd-"
      },
      "execution_count": 104,
      "outputs": []
    },
    {
      "cell_type": "markdown",
      "source": [
        " How do you train different models (Logistic Regression, Decision Tree, Random Forest, XGBoost)?"
      ],
      "metadata": {
        "id": "DmrvcpNN3p3M"
      }
    },
    {
      "cell_type": "code",
      "source": [
        "from sklearn.linear_model import LogisticRegression\n",
        "from sklearn.tree import DecisionTreeClassifier\n",
        "from sklearn.ensemble import RandomForestClassifier\n",
        "from xgboost import XGBClassifier\n",
        "\n",
        "# Initialize models\n",
        "models = {\n",
        "    \"Logistic Regression\": LogisticRegression(),\n",
        "    \"Decision Tree\": DecisionTreeClassifier(),\n",
        "    \"Random Forest\": RandomForestClassifier(),\n",
        "    \"XGBoost\": XGBClassifier()\n",
        "}\n",
        "\n",
        "# Train models\n",
        "for name, model in models.items():\n",
        "    model.fit(X_train, y_train)\n",
        "    print(f\"{name} trained successfully.\")\n"
      ],
      "metadata": {
        "colab": {
          "base_uri": "https://localhost:8080/"
        },
        "id": "J0k75FG73guw",
        "outputId": "42929862-675b-4a14-94f8-206924f5275f"
      },
      "execution_count": 105,
      "outputs": [
        {
          "output_type": "stream",
          "name": "stdout",
          "text": [
            "Logistic Regression trained successfully.\n",
            "Decision Tree trained successfully.\n",
            "Random Forest trained successfully.\n",
            "XGBoost trained successfully.\n"
          ]
        }
      ]
    },
    {
      "cell_type": "markdown",
      "source": [
        "**Step 5: Model Evaluation**"
      ],
      "metadata": {
        "id": "Ib6NrJHK4MUQ"
      }
    },
    {
      "cell_type": "markdown",
      "source": [
        "How do you evaluate model performance?"
      ],
      "metadata": {
        "id": "_Jwpg9M84Oin"
      }
    },
    {
      "cell_type": "code",
      "source": [
        "from sklearn.metrics import accuracy_score\n",
        "\n",
        "for name, model in models.items():\n",
        "    y_pred = model.predict(X_test)\n",
        "    accuracy = accuracy_score(y_test, y_pred)\n",
        "    print(f\"{name} Accuracy: {accuracy:.4f}\")\n"
      ],
      "metadata": {
        "colab": {
          "base_uri": "https://localhost:8080/"
        },
        "id": "nC9AC-ZM4SyL",
        "outputId": "0f8fbba7-16af-47ae-ae7c-bcb6f8da2e5b"
      },
      "execution_count": 106,
      "outputs": [
        {
          "output_type": "stream",
          "name": "stdout",
          "text": [
            "Logistic Regression Accuracy: 0.6636\n",
            "Decision Tree Accuracy: 0.8636\n",
            "Random Forest Accuracy: 0.8909\n",
            "XGBoost Accuracy: 0.8909\n"
          ]
        }
      ]
    },
    {
      "cell_type": "markdown",
      "source": [
        "How do you plot the ROC and AUC curves?"
      ],
      "metadata": {
        "id": "d0_gBgGg4XMV"
      }
    },
    {
      "cell_type": "code",
      "source": [
        "plt.figure(figsize=(8, 6))\n",
        "\n",
        "for name, model in models.items():\n",
        "    y_pred_prob = model.predict_proba(X_test)[:, 1]  # Get probabilities for class 1\n",
        "    fpr, tpr, _ = roc_curve(y_test, y_pred_prob)\n",
        "    auc_score = auc(fpr, tpr)\n",
        "\n",
        "    plt.plot(fpr, tpr, label=f\"{name} (AUC = {auc_score:.2f})\")\n",
        "\n",
        "plt.plot([0, 1], [0, 1], linestyle=\"--\", color=\"gray\")\n",
        "plt.xlabel(\"False Positive Rate\")\n",
        "plt.ylabel(\"True Positive Rate\")\n",
        "plt.title(\"ROC Curve\")\n",
        "plt.legend()\n",
        "plt.show()\n"
      ],
      "metadata": {
        "colab": {
          "base_uri": "https://localhost:8080/",
          "height": 564
        },
        "id": "qZ-3UOJs4Ud2",
        "outputId": "d08d4abb-721d-45bd-d05b-b121a60311bc"
      },
      "execution_count": 107,
      "outputs": [
        {
          "output_type": "display_data",
          "data": {
            "text/plain": [
              "<Figure size 800x600 with 1 Axes>"
            ],
            "image/png": "[encoded data removed]"
          },
          "metadata": {}
        }
      ]
    },
    {
      "cell_type": "markdown",
      "source": [
        "**Feature Encoding**"
      ],
      "metadata": {
        "id": "AynJO9cZ7YGc"
      }
    },
    {
      "cell_type": "code",
      "source": [
        "from sklearn.preprocessing import LabelEncoder\n",
        "le = LabelEncoder()\n",
        "df['gender'] = le.fit_transform(df['gender'])  # Converts categories into 0 & 1\n"
      ],
      "metadata": {
        "id": "2_2jP4cl7WWT"
      },
      "execution_count": 108,
      "outputs": []
    },
    {
      "cell_type": "markdown",
      "source": [
        "**Feature Scaling**"
      ],
      "metadata": {
        "id": "B1j1UMiO7enk"
      }
    },
    {
      "cell_type": "code",
      "source": [
        "from sklearn.preprocessing import StandardScaler\n",
        "scaler = StandardScaler()\n",
        "X_scaled = scaler.fit_transform(X)\n"
      ],
      "metadata": {
        "id": "YOgt9h6h7j7o"
      },
      "execution_count": 109,
      "outputs": []
    },
    {
      "cell_type": "markdown",
      "source": [
        "**Hyperparameter Tuning**"
      ],
      "metadata": {
        "id": "0ESfL6S971pK"
      }
    },
    {
      "cell_type": "code",
      "source": [
        "from sklearn.model_selection import GridSearchCV\n",
        "param_grid = {'n_estimators': [50, 100, 200], 'max_depth': [None, 10, 20]}\n",
        "\n",
        "grid = GridSearchCV(RandomForestClassifier(), param_grid, cv=5)\n",
        "grid.fit(X_train, y_train)\n",
        "\n",
        "print(grid.best_params_)  # Prints the best hyperparameters\n"
      ],
      "metadata": {
        "colab": {
          "base_uri": "https://localhost:8080/"
        },
        "id": "ZQA6X2l-75yf",
        "outputId": "c347fec7-d37a-419f-cbbc-91f657ddbaac"
      },
      "execution_count": 110,
      "outputs": [
        {
          "output_type": "stream",
          "name": "stdout",
          "text": [
            "{'max_depth': 20, 'n_estimators': 200}\n"
          ]
        }
      ]
    },
    {
      "cell_type": "markdown",
      "source": [
        "**Model Evaluation**"
      ],
      "metadata": {
        "id": "TLYSF_ff8HLC"
      }
    },
    {
      "cell_type": "code",
      "source": [
        "from sklearn.metrics import classification_report, confusion_matrix\n",
        "y_pred = model.predict(X_test)\n",
        "\n",
        "print(confusion_matrix(y_test, y_pred))  # Displays Confusion Matrix\n",
        "print(classification_report(y_test, y_pred))  # Precision, Recall, F1-score\n"
      ],
      "metadata": {
        "colab": {
          "base_uri": "https://localhost:8080/"
        },
        "id": "ojC-ViKT8JT6",
        "outputId": "e28f0944-7dac-4d2d-8f4c-63ec4db18471"
      },
      "execution_count": 111,
      "outputs": [
        {
          "output_type": "stream",
          "name": "stdout",
          "text": [
            "[[101  12]\n",
            " [ 12  95]]\n",
            "              precision    recall  f1-score   support\n",
            "\n",
            "           0       0.89      0.89      0.89       113\n",
            "           1       0.89      0.89      0.89       107\n",
            "\n",
            "    accuracy                           0.89       220\n",
            "   macro avg       0.89      0.89      0.89       220\n",
            "weighted avg       0.89      0.89      0.89       220\n",
            "\n"
          ]
        }
      ]
    },
    {
      "cell_type": "markdown",
      "source": [
        "**Step 6: Documentation**"
      ],
      "metadata": {
        "id": "8uLgWldi4iK6"
      }
    },
    {
      "cell_type": "markdown",
      "source": [
        "How do you document the project for submission?"
      ],
      "metadata": {
        "id": "LivZAyll4lJF"
      }
    },
    {
      "cell_type": "markdown",
      "source": [
        "\n",
        "\n",
        "*   Write a report covering:\n",
        "\n",
        "1.   Objective\n",
        "2.   Data Understanding\n",
        "3.   Preprocessing Steps\n",
        "4.   Model Building and Performance Metrics\n",
        "5.   Conclusion (Best Model)\n",
        "\n",
        "\n",
        "\n",
        "\n",
        "\n",
        "\n"
      ],
      "metadata": {
        "id": "unplQBGw4weW"
      }
    },
    {
      "cell_type": "markdown",
      "source": [
        "**✅ Final Summary: Ensure Your Project Includes**"
      ],
      "metadata": {
        "id": "8EzkD-RL8eAr"
      }
    },
    {
      "cell_type": "markdown",
      "source": [
        "\n",
        "\n",
        "1.    Data Cleaning (Handling missing values, duplicates)\n",
        "2.    Feature Engineering & Encoding (One-Hot Encoding, Label Encoding if needed\n",
        "3.    Scaling/Normalization (StandardScaler, MinMaxScaler, or Normalizer)\n",
        "4.    Model Training & Evaluation (Logistic Regression, Random Forest, XGBoost, etc.)\n",
        "5.    Feature Importance Analysis (Using RandomForestClassifier\n",
        "6.    Hyperparameter Tuning (Optimizing models using GridSearchCV)  "
      ],
      "metadata": {
        "id": "tSy6Nt5I8jv8"
      }
    }
  ]
}